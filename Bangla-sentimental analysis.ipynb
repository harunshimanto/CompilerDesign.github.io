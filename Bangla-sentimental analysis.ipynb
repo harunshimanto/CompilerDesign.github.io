{
 "cells": [
  {
   "cell_type": "code",
   "execution_count": 4,
   "metadata": {},
   "outputs": [
    {
     "name": "stdout",
     "output_type": "stream",
     "text": [
      "Enter text: সাব্বির অনেক ভালো ছেলে \n",
      "Sentence [1] = সাব্বির অনেক ভালো ছেলে \n",
      "\n",
      "Words of Sentence [1] = সাব্বির, অনেক, ভালো, ছেলে, \n",
      "\n",
      "Polarity of Sentence [1] = 0.9099999999999999\t\t(Positive sentence)\n"
     ]
    }
   ],
   "source": [
    "import nltk\n",
    "from textblob import TextBlob\n",
    "from googletrans import Translator\n",
    "translator = Translator()\n",
    "\n",
    "text_in_bangla= input(\"Enter text: \")\n",
    "\n",
    "sentence = text_in_bangla.split('।')\n",
    "\n",
    "en_sent = translator.translate(text_in_bangla).text\n",
    "en_split = en_sent.split('.')\n",
    "\n",
    "for b, bangla in enumerate(sentence):\n",
    "    print(\"Sentence [\" + str(b+1) + \"] = \" + bangla)\n",
    "\n",
    "for a, bangla in enumerate(sentence):\n",
    "    token = nltk.word_tokenize(bangla)\n",
    "    print(\"\\nWords of Sentence [\" + str(a+1) + \"] = \", end=\"\")\n",
    "    for n in token:\n",
    "        print(n + \", \", end=\"\")\n",
    "\n",
    "print(\"\\n\")\n",
    "\n",
    "for b, bangla in enumerate(en_split):\n",
    "    tb = TextBlob(bangla)\n",
    "    print(\"Polarity of Sentence [\" + str(b+1) + \"] = \", end=\"\")\n",
    "    sentiment = tb.sentiment.polarity\n",
    "    print(sentiment, end=\"\")\n",
    "\n",
    "    if (sentiment > 0):\n",
    "        print(\"\\t\\t(Positive sentence)\")\n",
    "\n",
    "    elif (sentiment < 0):\n",
    "        print(\"\\t\\t(Negative sentence)\")\n",
    "\n",
    "    else:\n",
    "        print(\"\\t\\t(It\\'s Neutral)\")"
   ]
  },
  {
   "cell_type": "code",
   "execution_count": null,
   "metadata": {},
   "outputs": [],
   "source": []
  }
 ],
 "metadata": {
  "kernelspec": {
   "display_name": "Python 3",
   "language": "python",
   "name": "python3"
  },
  "language_info": {
   "codemirror_mode": {
    "name": "ipython",
    "version": 3
   },
   "file_extension": ".py",
   "mimetype": "text/x-python",
   "name": "python",
   "nbconvert_exporter": "python",
   "pygments_lexer": "ipython3",
   "version": "3.7.0"
  }
 },
 "nbformat": 4,
 "nbformat_minor": 2
}
